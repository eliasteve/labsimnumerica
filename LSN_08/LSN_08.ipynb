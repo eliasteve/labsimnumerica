{
 "cells": [
  {
   "cell_type": "code",
   "execution_count": 18,
   "id": "0856b667-dedf-4cfe-b3aa-f28d64710bed",
   "metadata": {},
   "outputs": [],
   "source": [
    "import numpy as np\n",
    "from matplotlib import pyplot as plt\n",
    "import scipy as sp"
   ]
  },
  {
   "cell_type": "markdown",
   "id": "8ad53256-5f44-43ef-a7b4-b9847cb62313",
   "metadata": {},
   "source": [
    "## Esercizio 8.1"
   ]
  },
  {
   "cell_type": "markdown",
   "id": "3fd40bda-451c-4283-a31e-840c7c30f9ea",
   "metadata": {},
   "source": [
    "In questo esercizio dobbiamo scrivere del codice che permetta di campionare la distributione di probabilità \n",
    "$$\\frac{|\\psi(x)|^2}{\\int|\\psi(x)|^2dx}$$ associata alla funzione d'onda (in 1D, non normalizzata)\n",
    "\n",
    "$$\n",
    "\\psi(x) = e^{-\\frac{(x-\\mu)^2}{2\\sigma^2}}+\n",
    "                               e^{-\\frac{(x+\\mu)^2}{2\\sigma^2}}\n",
    "$$\n",
    "per valori fissati di $\\mu$ e $\\sigma$, e usare questo codice per calcolare il valor medio dell'hamiltoniana\n",
    "\n",
    "$$\n",
    "H = -\\frac{\\partial_x^2}{2} + x^4 - \\frac{5}{2}x^2\n",
    "$$\n",
    "\n",
    "su questo stato, ovvero\n",
    "\n",
    "$$\n",
    "\\langle {H} \\rangle = \\int \\frac{|\\psi(x)|^2}{\\int |\\psi(x)|^2 dx} \\frac{{\\hat H} \\psi(x)}{\\psi(x)} dx,\n",
    "$$\n",
    "\n",
    "vale a dire il valor medio sulla distribuzione di probabilità definita da $|\\psi|^2$ dell'_energia locale_ $\\frac{{\\hat H} \\psi(x)}{\\psi(x)}$.\n",
    "\n",
    "La normalizzazione della funzione d'onda (che non mi servirà nel calcolo Monte Carlo perché l'algoritmo di Metropolis permette di campionare distribuzioni di probabilità senza conoscerne la normalizzazione, ma che userò per calcolare l'energia via quadrature per testare il mio codice) è\n",
    "\n",
    "$$\n",
    "\\int|\\psi(x)|^2dx = 2\\sqrt{\\pi}\\sigma\\bigg(1+\\exp\\frac{\\mu^2}{\\sigma^2}\\bigg)\n",
    "$$\n",
    "\n",
    "e il laplaciano della funzione d'onda\n",
    "\n",
    "$$\n",
    "\\partial_x^2\\psi = \\frac{1}{\\sigma^2}\\Bigg[e^{-\\frac{(x-\\mu)^2}{2\\sigma^2}}\\Bigg(\\bigg(\\frac{x-\\mu}{\\sigma}\\bigg)^2-1\\Bigg) + e^{-\\frac{(x+\\mu)^2}{2\\sigma^2}}\\Bigg(\\bigg(\\frac{x+\\mu}{\\sigma}\\bigg)^2-1\\Bigg)\\Bigg]\n",
    "$$"
   ]
  },
  {
   "cell_type": "markdown",
   "id": "a18720be-ddad-40e0-a8e7-55979eeea02f",
   "metadata": {},
   "source": [
    "#### Energia locale stabile"
   ]
  },
  {
   "cell_type": "markdown",
   "id": "c0e766b3-f093-4d96-8801-d4ab7e4f4ba6",
   "metadata": {},
   "source": [
    "La parte cinetica dell'energia locale è\n",
    "\n",
    "$$\\frac{\\partial_x^2\\psi}{2\\psi} = -\\frac{1}{2\\sigma^2}\\frac{\n",
    "e^{-\\frac{(x-\\mu)^2}{2\\sigma^2}}\\Bigg(\\bigg(\\frac{x-\\mu}{\\sigma}\\bigg)^2-1\\Bigg) + e^{-\\frac{(x+\\mu)^2}{2\\sigma^2}}\\Bigg(\\bigg(\\frac{x+\\mu}{\\sigma}\\bigg)^2-1\\Bigg)\n",
    "}{\n",
    "e^{-\\frac{(x-\\mu)^2}{2\\sigma^2}}+\n",
    "                               e^{-\\frac{(x+\\mu)^2}{2\\sigma^2}}\n",
    "},$$\n",
    "\n",
    "o, definendo\n",
    "\n",
    "$$A_± = \\Big(\\frac{x±\\mu}{\\sigma}\\Big)^2,$$\n",
    "\n",
    "\n",
    "$$\\frac{\\partial_x^2\\psi}{2\\psi} = -\\frac{1}{2\\sigma^2}\\Bigg[\\frac{\n",
    "e^{-A_-/2}}{e^{-A_-/2}+e^{-A_+/2}}(A_--1) + \\frac{e^{-A_+/2}}{{e^{-A_-/2}+e^{-A_+/2}}}(A_+-1)\\Bigg].\n",
    "$$\n",
    "\n",
    "In questa forma, però, il calcolo di\n",
    "\n",
    "$$P_± = \\frac{e^{-A_±/2}}{e^{-A_-/2}+e^{-A_+/2}}$$\n",
    "\n",
    "può risentire di problemi di underflow negli esponenziali quando $A_±$ diventa grande (questo in realtà probabilmente non sarebbe stato un problema nei miei calcoli, ma ho apportato questa modifica mentre cercavo di risolvere il bug dell'\"energia cinetica negativa\", vedi sotto, e l'ho mantenuta nel codice definitivo). Ho quindi calcolato questi valori nel dominio del logaritmo, con il \"trucco di logsumexp\": definito\n",
    "\n",
    "$$A = \\max\\{-A_+/2, -A_-/2\\}$$\n",
    "\n",
    "un'espressione numericamente stabile per il logaritmo di $P_±$ è\n",
    "\n",
    "$$\\log P_± =-A_±/2 - A - \\log\\bigg[\\sum_{i=±}\\exp(-A_i/2-A)\\bigg]. $$"
   ]
  },
  {
   "cell_type": "markdown",
   "id": "bc7f3da0-fac0-41ed-8904-829ca1b955f7",
   "metadata": {},
   "source": [
    "#### Campionamento della funzione d'onda e calcolo dell'energia"
   ]
  },
  {
   "cell_type": "markdown",
   "id": "d88f018a-d394-45c4-b14c-5465eefdec24",
   "metadata": {},
   "source": [
    "Come al solito usiamo l'algoritmo di Metropolis per campionare la funzione d'onda e calcolare l'energia. Qualche commento:\n",
    "\n",
    "* il punto iniziale del campionamento va scelto sotto una delle due \"campane\" della funzione d'onda. Una versione precedente del codice lo sceglieva casualmente con il risultato che quando $\\sigma$ diventava piccolo, e quindi le \"campane\" si stringevano molto, l'algoritmo non riusciva a proporre mosse che risultasero in un valore \"sotto la campana\": veniva quindi campionata solo la regione all'esterno, dove l'energia cinetica locale è negativa, con il risultato di produrre un valore medio dell'energia cinetica negativo.\n",
    "* Quando le \"campane\" si stringono molto, è difficile che il campionamento possa avvenire su entrambe le campane se le mosse vengono proposte solo da una distribuzione uniforme, con larghezza scelta in modo che la probabilità di accettazione sia circa $50\\%$. Per mitigare questo problema, ogni $N_\\mathrm{flip}$ iterazioni viene proposta una mossa che partendo da $x$ produce $-x$: dato che la funzione d'onda è pari questa mossa viene accettata con probabilità $1$.\n",
    "* La larghezza della distribuzione uniforme per la proposta delle mosse dipende dai parametri $\\mu$ e $\\sigma$ e quindi non può essere fissata a priori: viene determinata dinamicamente durante la fase di equilibrazione in modo che la probabilità di accettazione sia circa $50\\%$"
   ]
  },
  {
   "cell_type": "markdown",
   "id": "625a4775-192d-434c-985e-d1768c6a6d12",
   "metadata": {},
   "source": [
    "### Test del calcolo dell'energia"
   ]
  },
  {
   "cell_type": "code",
   "execution_count": 19,
   "id": "11b56a0f-a719-40ce-877e-ee2fcfc188ec",
   "metadata": {},
   "outputs": [
    {
     "data": {
      "text/plain": [
       "(1.0, 0.5)"
      ]
     },
     "execution_count": 19,
     "metadata": {},
     "output_type": "execute_result"
    }
   ],
   "source": [
    "mu, sigma, actual_energy, acten_err, stable_energy, stable_err = np.loadtxt(\"energy_test.dat\", max_rows=1)\n",
    "mu, sigma"
   ]
  },
  {
   "cell_type": "code",
   "execution_count": 27,
   "id": "6c54c3b1-a89f-4d1f-8351-f68eac1bbc48",
   "metadata": {},
   "outputs": [],
   "source": [
    "def psi2(x, mu, sigma):\n",
    "    \"\"\"\n",
    "    Modulus squared of wavefunction\n",
    "\n",
    "    Args:\n",
    "        x: argument of the wavefunction\n",
    "        mu, sigma: parameters of the wavefunction\n",
    "\n",
    "    Returns:\n",
    "        Modulus squared of wavefunction calculated at x with parameters mu, sigma\n",
    "    \"\"\"\n",
    "    return (np.exp(-(x-mu)**2/(2*sigma**2)) + np.exp(-(x+mu)**2/(2*sigma**2)))**2\n",
    "\n",
    "def local_energy(x, mu, sigma):\n",
    "    \"\"\"\n",
    "    Local energy computed naively (i. e. not in the log domain)\n",
    "\n",
    "    Args:\n",
    "        x: argument of the local energy\n",
    "        mu, sigma: parameters of the local energy\n",
    "\n",
    "    Returns:\n",
    "        Local energy calculated at x with parameters mu, sigma\n",
    "    \"\"\"\n",
    "    V = x**4 - 5/2*x**2\n",
    "    argplus = (x+mu)/sigma\n",
    "    argminus = (x-mu)/sigma\n",
    "    #print(x, argplus, argminus)\n",
    "    psi = np.exp(-0.5*argminus**2) + np.exp(-0.5*argplus**2)\n",
    "    lapl_psi = ( np.exp(-argminus**2/2)*(argminus**2-1) + np.exp(-argplus**2/2)*(argplus**2-1) )/sigma**2\n",
    "    return -0.5*lapl_psi/psi + V\n",
    "\n",
    "def stable_local_energy(x, mu, sigma):\n",
    "    \"\"\"\n",
    "    Stable local energy, computed in the log domain using the logsumexp trick\n",
    "\n",
    "    Args:\n",
    "        x: argument of the local energy\n",
    "        mu, sigma: parameters of the local energy\n",
    "\n",
    "    Returns:\n",
    "        Local energy calculated at x with parameters mu, sigma\n",
    "    \"\"\"\n",
    "    V = x**4 - 5/2*x**2\n",
    "    argplus = ((x+mu)/sigma)**2\n",
    "    argminus = ((x-mu)/sigma)**2\n",
    "    argmax = np.max((-0.5*argplus, -0.5*argminus))\n",
    "    sumexp = np.exp(-argplus/2 - argmax) + np.exp(-argminus/2 - argmax)\n",
    "    logprobplus = -argplus/2  - argmax - np.log(sumexp)\n",
    "    logprobminus = -argminus/2 - argmax - np.log(sumexp)\n",
    "    K = -(np.exp(logprobplus) * (argplus-1) + np.exp(logprobminus) * (argminus-1))/(2*sigma**2)\n",
    "    return K+V"
   ]
  },
  {
   "cell_type": "code",
   "execution_count": 28,
   "id": "bf51f6a9-fdb4-4f6b-abba-a91c93500844",
   "metadata": {},
   "outputs": [],
   "source": [
    "#To normalize the exact function\n",
    "norm = 2*np.sqrt(np.pi)*sigma*(1+np.exp(-(mu/sigma)**2))"
   ]
  },
  {
   "cell_type": "code",
   "execution_count": 29,
   "id": "34e73dd8-6597-4e58-873e-a1e467b1b52a",
   "metadata": {},
   "outputs": [],
   "source": [
    "unnormalized_E = sp.integrate.quad(lambda x: psi2(x, mu, sigma)*local_energy(x, mu, sigma), -20, 20)"
   ]
  },
  {
   "cell_type": "code",
   "execution_count": 30,
   "id": "15dc7c7a-eec5-4b12-b695-719e0ec84d4c",
   "metadata": {},
   "outputs": [
    {
     "name": "stdout",
     "output_type": "stream",
     "text": [
      "Energia locale naive:\n",
      "Monte Carlo: E = -0.141666 ± 0.00452919\n",
      "Quadrature: E = -0.1460250222251638 ± 6.419768336573469e-09\n"
     ]
    }
   ],
   "source": [
    "print(\"Energia locale naive:\")\n",
    "print(\"Monte Carlo: E =\", actual_energy, \"±\", acten_err)\n",
    "print(\"Quadrature: E =\", unnormalized_E[0]/norm, \"±\", unnormalized_E[1]/norm)"
   ]
  },
  {
   "cell_type": "code",
   "execution_count": 31,
   "id": "7cda7e0b-562a-4a76-ad93-78230da138ec",
   "metadata": {},
   "outputs": [],
   "source": [
    "unnormalized_E = sp.integrate.quad(lambda x: psi2(x, mu, sigma)*stable_local_energy(x, mu, sigma), -np.inf, np.inf)"
   ]
  },
  {
   "cell_type": "code",
   "execution_count": 32,
   "id": "cb675d63-3ba8-4d40-b859-0d01ca2949c9",
   "metadata": {},
   "outputs": [
    {
     "name": "stdout",
     "output_type": "stream",
     "text": [
      "Energia locale stabile:\n",
      "Monte Carlo: E = -0.139217 ± 0.00435845\n",
      "Quadrature: E = -0.14602502222516395 +- 5.7052963196135035e-09\n"
     ]
    }
   ],
   "source": [
    "print(\"Energia locale stabile:\")\n",
    "print(\"Monte Carlo: E =\", stable_energy, \"±\", stable_err)\n",
    "print(\"Quadrature: E =\", unnormalized_E[0]/norm, \"+-\", unnormalized_E[1]/norm)"
   ]
  },
  {
   "cell_type": "markdown",
   "id": "51a0997b-c225-4472-a8d9-c0b7e9a9d261",
   "metadata": {},
   "source": [
    "## Esercizio 8.2"
   ]
  },
  {
   "cell_type": "markdown",
   "id": "0d0f8d2c-b024-4d15-acbd-b1561f6e52cc",
   "metadata": {},
   "source": [
    "### Percorso di ottimizzazione"
   ]
  },
  {
   "cell_type": "code",
   "execution_count": 26,
   "id": "715a1753-8254-467f-b3a3-b5b80187c3ed",
   "metadata": {},
   "outputs": [
    {
     "ename": "NameError",
     "evalue": "name 'n' is not defined",
     "output_type": "error",
     "traceback": [
      "\u001b[0;31m---------------------------------------------------------------------------\u001b[0m",
      "\u001b[0;31mNameError\u001b[0m                                 Traceback (most recent call last)",
      "Cell \u001b[0;32mIn[26], line 3\u001b[0m\n\u001b[1;32m      1\u001b[0m mus \u001b[38;5;241m=\u001b[39m []\n\u001b[1;32m      2\u001b[0m sigmas \u001b[38;5;241m=\u001b[39m []\n\u001b[0;32m----> 3\u001b[0m \u001b[38;5;28;01mfor\u001b[39;00m i \u001b[38;5;129;01min\u001b[39;00m \u001b[38;5;28mrange\u001b[39m(\u001b[43mn\u001b[49m):\n\u001b[1;32m      4\u001b[0m     \u001b[38;5;28;01mwith\u001b[39;00m \u001b[38;5;28mopen\u001b[39m(\u001b[38;5;124m\"\u001b[39m\u001b[38;5;124moptimizationData/parameters_step\u001b[39m\u001b[38;5;124m\"\u001b[39m \u001b[38;5;241m+\u001b[39m \u001b[38;5;28mstr\u001b[39m(i\u001b[38;5;241m+\u001b[39m\u001b[38;5;241m1\u001b[39m) \u001b[38;5;241m+\u001b[39m \u001b[38;5;124m\"\u001b[39m\u001b[38;5;124m.dat\u001b[39m\u001b[38;5;124m\"\u001b[39m) \u001b[38;5;28;01mas\u001b[39;00m f:\n\u001b[1;32m      5\u001b[0m         f\u001b[38;5;241m.\u001b[39mreadline() \u001b[38;5;66;03m#Skip 1st row\u001b[39;00m\n",
      "\u001b[0;31mNameError\u001b[0m: name 'n' is not defined"
     ]
    }
   ],
   "source": [
    "mus = []\n",
    "sigmas = []\n",
    "for i in range(n):\n",
    "    with open(\"optimizationData/parameters_step\" + str(i+1) + \".dat\") as f:\n",
    "        f.readline() #Skip 1st row\n",
    "        for line in f:\n",
    "            mu, sigma = map(float, line.strip().split())\n",
    "            mus.append(mu)\n",
    "            sigmas.append(sigma)"
   ]
  },
  {
   "cell_type": "code",
   "execution_count": null,
   "id": "ee47cd17-bca9-4253-a06e-72fd63184996",
   "metadata": {},
   "outputs": [],
   "source": [
    "plt.scatter(mus, sigmas, c=list(range(len(mus))), cmap=\"viridis\", s=0.5)\n",
    "plt.xlabel(\"mu\")\n",
    "plt.ylabel(\"sigma\")\n",
    "plt.colorbar(label=\"step\")"
   ]
  },
  {
   "cell_type": "code",
   "execution_count": null,
   "id": "ffd3ce40-7c4f-4bc7-9452-715538832f56",
   "metadata": {},
   "outputs": [],
   "source": [
    "energies = []\n",
    "errors = []\n",
    "for step in range(1, 101):\n",
    "    filename = \"optimizationData/energies_step\" + str(step) + \".dat\"\n",
    "    with open(filename) as f:\n",
    "        f.readline() #Skip 1st row\n",
    "        for line in f:\n",
    "            energy, error, __ = map(float, line.strip().split())\n",
    "        energies.append(energy)\n",
    "        errors.append(error)"
   ]
  },
  {
   "cell_type": "code",
   "execution_count": null,
   "id": "f962d062-73c7-40e5-8156-9275523c87bc",
   "metadata": {},
   "outputs": [],
   "source": [
    "plt.errorbar(list(range(1, 101)), energies, yerr=errors)\n",
    "plt.xlabel(\"step\")\n",
    "plt.ylabel(\"energia\")"
   ]
  },
  {
   "cell_type": "markdown",
   "id": "0a52b5f8-af61-4d74-b5eb-079c5c646d87",
   "metadata": {},
   "source": [
    "### Campionamento finale"
   ]
  },
  {
   "cell_type": "code",
   "execution_count": null,
   "id": "94653af3-6d9e-4818-8ede-b18ffb17047a",
   "metadata": {},
   "outputs": [],
   "source": [
    "distro = []\n",
    "Es = []\n",
    "with open(\"final_energy_distro.dat\") as f:\n",
    "    mu = float(f.readline().strip())\n",
    "    sigma = float(f.readline().strip())\n",
    "    n_blocks = int(f.readline().strip())\n",
    "    pts_per_block = int(f.readline().strip())\n",
    "    for line in f:\n",
    "        d, E = map(float, line.strip().split())\n",
    "        distro.append(d)\n",
    "        Es.append(E)\n",
    "\n",
    "len(distro), len(Es)"
   ]
  },
  {
   "cell_type": "code",
   "execution_count": null,
   "id": "4496903c-ff3a-461c-91ef-00828da9f75a",
   "metadata": {},
   "outputs": [],
   "source": [
    "mu, sigma, n_blocks, pts_per_block"
   ]
  },
  {
   "cell_type": "code",
   "execution_count": null,
   "id": "e37fdcc0-f04c-4beb-bec6-47e44be2369b",
   "metadata": {},
   "outputs": [],
   "source": [
    "Es = np.reshape(np.array(Es), (n_blocks, pts_per_block))\n",
    "block_Es = Es.mean(axis=1)"
   ]
  },
  {
   "cell_type": "code",
   "execution_count": null,
   "id": "a6f69df3-f78f-4b2c-8558-9e593f6161dd",
   "metadata": {},
   "outputs": [],
   "source": [
    "block_Es"
   ]
  },
  {
   "cell_type": "code",
   "execution_count": null,
   "id": "c0cd1cf5-029f-4132-8e4a-ac01371c79e0",
   "metadata": {},
   "outputs": [],
   "source": [
    "means = []\n",
    "errors = []\n",
    "for i in range(len(block_Es)):\n",
    "    means.append(np.mean(block_Es[:i+1]))\n",
    "    errors.append(np.std(block_Es[:i+1])/np.sqrt(i)) #Will nan on the 1st point, I'm fine with it"
   ]
  },
  {
   "cell_type": "code",
   "execution_count": null,
   "id": "6ac13461-694d-4b52-9852-7d996737be80",
   "metadata": {},
   "outputs": [],
   "source": [
    "mean = np.mean(block_Es)\n",
    "error = np.std(block_Es, ddof=1)/np.sqrt(len(block_Es))\n",
    "print(mean, \"±\", error)"
   ]
  },
  {
   "cell_type": "code",
   "execution_count": null,
   "id": "f007785f-a908-4ee2-87f5-bfe0ec9d1ccf",
   "metadata": {},
   "outputs": [],
   "source": [
    "xs = np.arange(len(block_Es))\n",
    "plt.errorbar(xs, means, yerr = errors, label=\"MCMC optimized energy\")\n",
    "plt.axhline(-0.460465879692715, color=\"red\", label=\"matrix calculation solution\")\n",
    "plt.grid(True)\n",
    "plt.legend()"
   ]
  },
  {
   "cell_type": "code",
   "execution_count": null,
   "id": "38143fd5-19c8-4ee9-a13a-91cd6897e046",
   "metadata": {},
   "outputs": [],
   "source": [
    "def Vpot(x):\n",
    "    return (x**2 - 2.5)*x**2\n",
    "    #return 0.5*x**2\n",
    "\n",
    "hbar = 1\n",
    "m = 1\n",
    "a = 10\n",
    "N = 1000 # number of iterations\n",
    "\n",
    "# Step sizes\n",
    "x = np.linspace(-a/2, a/2, N)\n",
    "dx = x[1] - x[0] # the step size\n",
    "V = Vpot(x)\n",
    "\n",
    "# The central differences method: f\" = (f_1 - 2*f_0 + f_-1)/dx^2\n",
    "\n",
    "CDiff = np.diag(np.ones(N-1),-1)-2*np.diag(np.ones(N),0)+np.diag(np.ones(N-1),1)\n",
    "# np.diag(np.array,k) construct a \"diagonal\" matrix using the np.array\n",
    "# The default is k=0. Use k>0 for diagonals above the main diagonal, \n",
    "# and k<0 for diagonals below the main diagonal\n",
    "\n",
    "# Hamiltonian matrix\n",
    "H = (-(hbar**2)*CDiff)/(2*m*dx**2) + np.diag(V)\n",
    "\n",
    "# Compute eigenvectors and their eigenvalues\n",
    "E,psi = np.linalg.eigh(H)\n",
    "\n",
    "# Take the transpose & normalize\n",
    "psi = np.transpose(psi)\n",
    "psi = psi/np.sqrt(dx)\n",
    "\n",
    "print(\"Ground state energy: \", E[0])\n",
    "print(\"1st excited state energy: \", E[1])\n",
    "print(\"2nd excited state energy: \", E[2])"
   ]
  },
  {
   "cell_type": "code",
   "execution_count": null,
   "id": "e8aac066-9b99-47ee-9151-8e407a4b46b7",
   "metadata": {},
   "outputs": [],
   "source": [
    "norm = 2*np.sqrt(np.pi)*sigma*(1+np.exp(-(mu/sigma)**2))"
   ]
  },
  {
   "cell_type": "code",
   "execution_count": null,
   "id": "96353532-9f66-43cd-b885-3b8d65c2e073",
   "metadata": {},
   "outputs": [],
   "source": [
    "# Plot a few things\n",
    "plt.figure(figsize=(8,5))\n",
    "scale = 0.3\n",
    "plt.plot(x, scale*V, color=\"Black\", label=\"Potential\") # plot the potential\n",
    "plt.plot(x,(psi[0])**2, label=\"matrix equation sol.\")\n",
    "plt.plot(x, psi2(x, mus[-1], sigmas[-1])/norm, label=\"analytical final distro\")\n",
    "plt.hist(distro, bins=70, density=True, histtype=\"step\", label=\"sampled final distro\")\n",
    "plt.plot()\n",
    "#plt.plot(x,(psi[1])**2)\n",
    "#plt.plot(x,(psi[2])**2)\n",
    "plt.title(\"Potential & Probabilities\")\n",
    "plt.xlabel(\"x\")\n",
    "plt.grid(True)\n",
    "plt.xlim((-3,3))\n",
    "plt.ylim((-0.6,0.6))\n",
    "plt.legend()\n",
    "plt.show()"
   ]
  },
  {
   "cell_type": "code",
   "execution_count": null,
   "id": "eed4f564-1f21-4793-9678-a538e110eed9",
   "metadata": {},
   "outputs": [],
   "source": []
  }
 ],
 "metadata": {
  "kernelspec": {
   "display_name": "Python 3 (ipykernel)",
   "language": "python",
   "name": "python3"
  },
  "language_info": {
   "codemirror_mode": {
    "name": "ipython",
    "version": 3
   },
   "file_extension": ".py",
   "mimetype": "text/x-python",
   "name": "python",
   "nbconvert_exporter": "python",
   "pygments_lexer": "ipython3",
   "version": "3.10.13"
  }
 },
 "nbformat": 4,
 "nbformat_minor": 5
}
